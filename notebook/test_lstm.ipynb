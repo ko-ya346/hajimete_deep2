{
 "cells": [
  {
   "cell_type": "code",
   "execution_count": 1,
   "metadata": {},
   "outputs": [],
   "source": [
    "import sys\n",
    "import torch\n",
    "import torch.nn as nn\n",
    "import torch.nn.functional as F\n",
    "\n",
    "sys.path.append(\"../\")\n",
    "from utils.sequence import load_data, get_vocab\n",
    "from models.seq2seq import Seq2seq, Encoder, Decoder\n",
    "from datasets.addition_dataset import AdditionDataset, Tokenizer"
   ]
  },
  {
   "cell_type": "code",
   "execution_count": 2,
   "metadata": {},
   "outputs": [],
   "source": [
    "FILEPATH = \"../datasets/addition.txt\"\n",
    "tokenizer = Tokenizer(FILEPATH)"
   ]
  },
  {
   "cell_type": "code",
   "execution_count": 3,
   "metadata": {},
   "outputs": [
    {
     "data": {
      "text/plain": [
       "tensor([[ 2,  7,  0,  ...,  6,  0,  0],\n",
       "        [ 6,  3,  0,  ...,  1,  8,  0],\n",
       "        [ 8,  6,  0,  ...,  3,  0,  0],\n",
       "        ...,\n",
       "        [ 5,  9,  7,  ...,  7,  9,  0],\n",
       "        [ 6, 10,  3,  ...,  8,  7,  0],\n",
       "        [ 5,  4,  2,  ..., 10,  9,  0]])"
      ]
     },
     "execution_count": 3,
     "metadata": {},
     "output_type": "execute_result"
    }
   ],
   "source": [
    "tokenizer.questions"
   ]
  },
  {
   "cell_type": "code",
   "execution_count": 8,
   "metadata": {},
   "outputs": [
    {
     "name": "stdout",
     "output_type": "stream",
     "text": [
      "torch.Size([40000, 7])\n",
      "torch.Size([40000, 5])\n",
      "torch.Size([10000, 7])\n",
      "torch.Size([10000, 5])\n"
     ]
    }
   ],
   "source": [
    "# trainとvalidに分ける\n",
    "sep_idx = 40000 \n",
    "x_train = tokenizer.questions[:sep_idx, :] \n",
    "x_test = tokenizer.questions[sep_idx:, :] \n",
    "t_train = tokenizer.answers[:sep_idx, :] \n",
    "t_test = tokenizer.answers[sep_idx:, :] \n",
    "print(x_train.shape)\n",
    "print(t_train.shape)\n",
    "print(x_test.shape)\n",
    "print(t_test.shape)\n"
   ]
  },
  {
   "cell_type": "code",
   "execution_count": 9,
   "metadata": {},
   "outputs": [
    {
     "name": "stdout",
     "output_type": "stream",
     "text": [
      "tensor([[ 0.0614, -0.2154, -0.1186,  0.2722, -0.0146],\n",
      "        [-0.2839,  0.1138, -0.0473,  0.1592, -0.0729],\n",
      "        [ 0.0354,  0.0124, -0.0187, -0.0232,  0.1013]], grad_fn=<MulBackward0>) tensor([[ 0.1190, -0.4301, -0.2519,  0.3787, -0.0299],\n",
      "        [-0.4721,  0.2536, -0.2277,  0.4071, -0.2288],\n",
      "        [ 0.1318,  0.0374, -0.0461, -0.1086,  0.3341]], grad_fn=<AddBackward0>)\n",
      "tensor([[ 0.1024, -0.0628,  0.1266,  0.0673, -0.0263],\n",
      "        [ 0.2182,  0.0849, -0.0692,  0.0820,  0.0174],\n",
      "        [-0.1538,  0.0399,  0.1475,  0.1793,  0.1841]], grad_fn=<MulBackward0>) tensor([[ 0.1743, -0.1825,  0.3413,  0.3190, -0.0436],\n",
      "        [ 0.4129,  0.3359, -0.2579,  0.3918,  0.0378],\n",
      "        [-0.2132,  0.1153,  0.3730,  0.4073,  0.4795]], grad_fn=<AddBackward0>)\n"
     ]
    }
   ],
   "source": [
    "# LSTMCellの練習\n",
    "input_size = 10\n",
    "hidden_size = 5\n",
    "lstm = nn.LSTMCell(input_size, hidden_size)\n",
    "x = torch.randn(2, 3, 10) # (timestep, batch, input_size)\n",
    "hx = torch.randn(3, 5)\n",
    "cx = torch.randn(3, 5)\n",
    "\n",
    "for i in range(x.shape[0]):\n",
    "    hx, cx = lstm(x[i], (hx, cx))\n",
    "    print(hx, cx)"
   ]
  },
  {
   "cell_type": "code",
   "execution_count": 11,
   "metadata": {},
   "outputs": [
    {
     "name": "stdout",
     "output_type": "stream",
     "text": [
      "128\n",
      "torch.Size([128, 7, 12])\n",
      "------------------------------------\n",
      "torch.Size([128, 5, 12])\n",
      "torch.Size([2, 128, 12])\n",
      "torch.Size([2, 128, 12])\n"
     ]
    }
   ],
   "source": [
    "class CFG:\n",
    "    num_layers = 2\n",
    "    hidden_size = 16\n",
    "    batch_size = 128\n",
    "    epoch = 10\n",
    "\n",
    "x_train_batch = x_train[:CFG.batch_size, :]\n",
    "t_train_batch = t_train[:CFG.batch_size, :]\n",
    "\n",
    "input_size= len(tokenizer.char2id)\n",
    "encoder = Encoder(input_size, CFG.hidden_size, CFG.num_layers, input_size)\n",
    "encoder_hidden = encoder.init_hidden(CFG.batch_size)\n",
    "out, states = encoder(x_train_batch, encoder_hidden)\n",
    "print(len(out))\n",
    "print(out.shape)\n",
    "# print(states[0].shape)\n",
    "# print(states[1].shape)\n",
    "decoder = Decoder(input_size, CFG.hidden_size, CFG.num_layers, input_size) \n",
    "# decoder_hidden = decoder.init_hidden(CFG.batch_size)\n",
    "# states[0]: 隠れ状態\n",
    "out, states = decoder(t_train_batch, states)\n",
    "print(\"-\"*36)\n",
    "print(out.shape)\n",
    "print(states[0].shape)\n",
    "print(states[1].shape)"
   ]
  },
  {
   "cell_type": "code",
   "execution_count": 16,
   "metadata": {},
   "outputs": [
    {
     "data": {
      "text/plain": [
       "tensor([[11, 10,  2,  0,  0],\n",
       "        [11,  7,  6, 10,  0],\n",
       "        [11, 10,  8,  0,  0],\n",
       "        ...,\n",
       "        [11,  6,  1,  5,  0],\n",
       "        [11,  2,  1,  5,  4],\n",
       "        [11,  2,  2,  3,  5]])"
      ]
     },
     "execution_count": 16,
     "metadata": {},
     "output_type": "execute_result"
    }
   ],
   "source": [
    "t_train"
   ]
  },
  {
   "cell_type": "code",
   "execution_count": 13,
   "metadata": {},
   "outputs": [
    {
     "ename": "NameError",
     "evalue": "name 'pred' is not defined",
     "output_type": "error",
     "traceback": [
      "\u001b[1;31m---------------------------------------------------------------------------\u001b[0m",
      "\u001b[1;31mNameError\u001b[0m                                 Traceback (most recent call last)",
      "\u001b[1;32m~\\AppData\\Local\\Temp/ipykernel_9656/3204062345.py\u001b[0m in \u001b[0;36m<module>\u001b[1;34m\u001b[0m\n\u001b[0;32m      1\u001b[0m \u001b[0mcriterion\u001b[0m \u001b[1;33m=\u001b[0m \u001b[0mnn\u001b[0m\u001b[1;33m.\u001b[0m\u001b[0mCrossEntropyLoss\u001b[0m\u001b[1;33m(\u001b[0m\u001b[1;33m)\u001b[0m\u001b[1;33m\u001b[0m\u001b[1;33m\u001b[0m\u001b[0m\n\u001b[1;32m----> 2\u001b[1;33m \u001b[0mprint\u001b[0m\u001b[1;33m(\u001b[0m\u001b[0mtorch\u001b[0m\u001b[1;33m.\u001b[0m\u001b[0margmax\u001b[0m\u001b[1;33m(\u001b[0m\u001b[0mpred\u001b[0m\u001b[1;33m,\u001b[0m \u001b[0maxis\u001b[0m\u001b[1;33m=\u001b[0m\u001b[1;36m2\u001b[0m\u001b[1;33m)\u001b[0m\u001b[1;33m.\u001b[0m\u001b[0mshape\u001b[0m\u001b[1;33m)\u001b[0m\u001b[1;33m\u001b[0m\u001b[1;33m\u001b[0m\u001b[0m\n\u001b[0m\u001b[0;32m      3\u001b[0m \u001b[0mcriterion\u001b[0m\u001b[1;33m(\u001b[0m\u001b[0mtorch\u001b[0m\u001b[1;33m.\u001b[0m\u001b[0margmax\u001b[0m\u001b[1;33m(\u001b[0m\u001b[0mpred\u001b[0m\u001b[1;33m,\u001b[0m \u001b[0maxis\u001b[0m\u001b[1;33m=\u001b[0m\u001b[1;36m2\u001b[0m\u001b[1;33m)\u001b[0m\u001b[1;33m.\u001b[0m\u001b[0mfloat\u001b[0m\u001b[1;33m(\u001b[0m\u001b[1;33m)\u001b[0m\u001b[1;33m,\u001b[0m \u001b[0mt_train_batch\u001b[0m\u001b[1;33m.\u001b[0m\u001b[0mfloat\u001b[0m\u001b[1;33m(\u001b[0m\u001b[1;33m)\u001b[0m\u001b[1;33m)\u001b[0m\u001b[1;33m\u001b[0m\u001b[1;33m\u001b[0m\u001b[0m\n",
      "\u001b[1;31mNameError\u001b[0m: name 'pred' is not defined"
     ]
    }
   ],
   "source": [
    "criterion = nn.CrossEntropyLoss()\n",
    "print(torch.argmax(pred, axis=2).shape)\n",
    "criterion(torch.argmax(pred, axis=2).float(), t_train_batch.float())"
   ]
  },
  {
   "cell_type": "code",
   "execution_count": null,
   "metadata": {},
   "outputs": [
    {
     "data": {
      "text/plain": [
       "mappingproxy({'__module__': '__main__',\n",
       "              'num_layers': 2,\n",
       "              'hidden_size': 16,\n",
       "              'batch_size': 128,\n",
       "              'epoch': 10,\n",
       "              '__dict__': <attribute '__dict__' of 'CFG' objects>,\n",
       "              '__weakref__': <attribute '__weakref__' of 'CFG' objects>,\n",
       "              '__doc__': None})"
      ]
     },
     "execution_count": 3,
     "metadata": {},
     "output_type": "execute_result"
    }
   ],
   "source": [
    "class CFG:\n",
    "    num_layers = 2\n",
    "    hidden_size = 16\n",
    "    batch_size = 128\n",
    "    epoch = 10\n",
    "\n",
    "CFG.__dict__"
   ]
  },
  {
   "cell_type": "code",
   "execution_count": 63,
   "metadata": {},
   "outputs": [
    {
     "name": "stdout",
     "output_type": "stream",
     "text": [
      "torch.Size([80, 12])\n",
      "torch.Size([80])\n"
     ]
    },
    {
     "data": {
      "text/plain": [
       "torch.Size([80])"
      ]
     },
     "execution_count": 63,
     "metadata": {},
     "output_type": "execute_result"
    }
   ],
   "source": [
    "x = torch.randn(16, 5, 12).reshape(-1, 12)\n",
    "print(x.shape)\n",
    "y = torch.ones(16, 5).reshape(-1, 1).int().squeeze()\n",
    "print(y.shape)\n",
    "z = x.index_select(1, y)[:, 0]\n",
    "z.shape"
   ]
  },
  {
   "cell_type": "code",
   "execution_count": 72,
   "metadata": {},
   "outputs": [
    {
     "data": {
      "text/plain": [
       "tensor([[ 2.7748, -0.0990],\n",
       "        [ 1.3342,  0.7899],\n",
       "        [-0.7646, -0.6483]])"
      ]
     },
     "execution_count": 72,
     "metadata": {},
     "output_type": "execute_result"
    }
   ],
   "source": [
    "x = torch.randn(3, 2)\n",
    "x"
   ]
  },
  {
   "cell_type": "code",
   "execution_count": 73,
   "metadata": {},
   "outputs": [
    {
     "name": "stdout",
     "output_type": "stream",
     "text": [
      "torch.Size([3, 2])\n"
     ]
    },
    {
     "data": {
      "text/plain": [
       "tensor([[-0.7646, -0.6483],\n",
       "        [ 1.3342,  0.7899],\n",
       "        [ 2.7748, -0.0990]])"
      ]
     },
     "execution_count": 73,
     "metadata": {},
     "output_type": "execute_result"
    }
   ],
   "source": [
    "print(x.shape)\n",
    "torch.flip(x,[0])"
   ]
  },
  {
   "cell_type": "code",
   "execution_count": 78,
   "metadata": {},
   "outputs": [
    {
     "data": {
      "text/plain": [
       "tensor([[ 2,  7,  0,  8,  6,  0,  0],\n",
       "        [ 6,  3,  0,  7,  1,  8,  0],\n",
       "        [ 8,  6,  0,  3,  3,  0,  0],\n",
       "        [ 7,  4,  0,  3,  3,  0,  0],\n",
       "        [ 8, 10,  6,  0,  4,  0,  0],\n",
       "        [ 8,  1,  7,  0,  8, 10,  7],\n",
       "        [ 9,  0,  5,  0,  0,  0,  0],\n",
       "        [ 9,  5,  0,  4,  2,  8,  0],\n",
       "        [10,  0,  4,  0,  0,  0,  0],\n",
       "        [ 7,  0,  3,  0,  0,  0,  0],\n",
       "        [ 2,  9,  0,  9,  0,  0,  0],\n",
       "        [ 9,  6,  0,  6,  3,  0,  0],\n",
       "        [10,  0,  2,  0,  0,  0,  0],\n",
       "        [ 9,  0,  3,  1,  0,  0,  0],\n",
       "        [ 6,  0,  4,  0,  0,  0,  0],\n",
       "        [ 2,  0,  4,  0,  0,  0,  0],\n",
       "        [ 6,  8,  0,  2,  1,  0,  0],\n",
       "        [ 8,  0,  3,  1,  9,  0,  0],\n",
       "        [ 8,  3,  4,  0,  9,  0,  0],\n",
       "        [ 2,  5,  5,  0,  2,  5,  0],\n",
       "        [ 6,  0,  8,  0,  0,  0,  0],\n",
       "        [ 6,  0,  5,  7,  0,  0,  0],\n",
       "        [10,  0,  2,  6,  0,  0,  0],\n",
       "        [ 7,  3,  2,  0,  1,  0,  0],\n",
       "        [ 9,  2,  0,  9, 10,  0,  0],\n",
       "        [ 9,  5,  7,  0,  9,  5,  0],\n",
       "        [ 3,  8,  0,  7,  4,  0,  0],\n",
       "        [ 5,  0,  6,  9,  3,  0,  0],\n",
       "        [ 8,  0,  2,  0,  0,  0,  0],\n",
       "        [ 7,  4,  0,  6,  0,  0,  0],\n",
       "        [ 4,  4,  5,  0,  1,  0,  0],\n",
       "        [ 3,  0,  5,  7,  3,  0,  0],\n",
       "        [ 6,  0,  6,  0,  0,  0,  0],\n",
       "        [ 9,  3,  5,  0,  5,  5,  7],\n",
       "        [ 8,  8,  6,  0,  4,  0,  0],\n",
       "        [ 2,  0, 10,  1,  0,  0,  0],\n",
       "        [ 3,  6,  3,  0,  9,  9,  0],\n",
       "        [ 3,  2,  8,  0,  4,  0,  0],\n",
       "        [ 3,  0,  3,  0,  0,  0,  0],\n",
       "        [ 3, 10,  4,  0,  6,  0,  0],\n",
       "        [10,  0,  7,  5,  9,  0,  0],\n",
       "        [ 2,  0,  7,  3,  0,  0,  0],\n",
       "        [ 8,  0,  8,  0,  0,  0,  0],\n",
       "        [ 7,  0,  9,  2,  0,  0,  0],\n",
       "        [10,  0,  3,  3,  0,  0,  0],\n",
       "        [10,  7,  0, 10,  3,  2,  0],\n",
       "        [ 8,  0,  7, 10, 10,  0,  0],\n",
       "        [10,  7,  8,  0,  6,  1,  0],\n",
       "        [ 7,  5,  0, 10,  1,  0,  0],\n",
       "        [ 4,  0,  2, 10,  0,  0,  0],\n",
       "        [10,  6,  0,  3,  0,  0,  0],\n",
       "        [ 8,  0,  6,  1,  0,  0,  0],\n",
       "        [ 4,  5,  0,  5,  5,  8,  0],\n",
       "        [10,  1,  0, 10,  1,  0,  0],\n",
       "        [ 6,  2,  0,  5,  5,  4,  0],\n",
       "        [10,  5,  0,  9,  0,  0,  0],\n",
       "        [ 3,  6,  8,  0,  3,  4,  0],\n",
       "        [ 9,  8,  0,  5,  4,  0,  0],\n",
       "        [ 3,  0,  6,  6, 10,  0,  0],\n",
       "        [ 7,  0,  4, 10,  0,  0,  0],\n",
       "        [ 9,  5,  0,  4,  2,  0,  0],\n",
       "        [ 6, 10,  6,  0,  7,  0,  0],\n",
       "        [ 5,  0,  2,  0,  0,  0,  0],\n",
       "        [ 5,  0,  5,  0,  0,  0,  0],\n",
       "        [ 5,  9,  0,  9, 10,  6,  0],\n",
       "        [ 2,  4,  0, 10,  6,  0,  0],\n",
       "        [ 2,  8,  9,  0,  7,  0,  0],\n",
       "        [ 2,  3,  2,  0,  7,  2,  0],\n",
       "        [ 2,  9,  9,  0,  5,  0,  0],\n",
       "        [ 4, 10,  2,  0,  2,  4, 10],\n",
       "        [10,  0,  2, 10,  7,  0,  0],\n",
       "        [ 2, 10,  0,  6,  6,  1,  0],\n",
       "        [ 4,  7,  0,  6,  8,  1,  0],\n",
       "        [ 2,  2,  0,  4,  0,  0,  0],\n",
       "        [ 7,  8, 10,  0,  7,  6,  3],\n",
       "        [ 5, 10,  8,  0,  6, 10,  0],\n",
       "        [ 4, 10,  0,  3,  8,  0,  0],\n",
       "        [ 2,  4,  0,  2,  0,  0,  0],\n",
       "        [ 5,  5,  0,  8,  0,  0,  0],\n",
       "        [ 4,  0,  7,  3,  1,  0,  0],\n",
       "        [ 9,  7,  9,  0,  4,  1,  9],\n",
       "        [ 4,  6,  0,  8,  0,  0,  0],\n",
       "        [ 6,  9,  3,  0,  9,  5,  0],\n",
       "        [ 7,  0,  3,  8,  0,  0,  0],\n",
       "        [ 5, 10,  9,  0, 10,  3,  0],\n",
       "        [10,  1,  2,  0,  9,  6,  3],\n",
       "        [10,  3,  0,  9,  9,  0,  0],\n",
       "        [ 6,  0,  2,  8,  0,  0,  0],\n",
       "        [ 3,  5,  6,  0,  3,  0,  0],\n",
       "        [10, 10,  0,  4,  7,  8,  0],\n",
       "        [ 9,  4,  3,  0,  6,  3,  6],\n",
       "        [ 2,  0,  6,  7,  8,  0,  0],\n",
       "        [ 9,  5,  6,  0,  8,  5,  0],\n",
       "        [ 3,  4,  6,  0,  6,  2,  0],\n",
       "        [ 6, 10,  0,  6,  0,  0,  0],\n",
       "        [10,  2,  2,  0,  8, 10,  4],\n",
       "        [ 3,  2,  1,  0, 10,  0,  0],\n",
       "        [ 9,  1,  8,  0,  5,  4,  8],\n",
       "        [ 7,  4, 10,  0,  2,  0,  0],\n",
       "        [10,  4,  0,  8,  4,  0,  0],\n",
       "        [ 9,  9,  2,  0,  1,  0,  0],\n",
       "        [10,  9,  1,  0,  5,  7,  0],\n",
       "        [ 2,  0,  9,  0,  0,  0,  0],\n",
       "        [ 2,  0,  7,  0,  0,  0,  0],\n",
       "        [ 2,  8,  0,  8,  7,  0,  0],\n",
       "        [ 4,  4,  2,  0,  6,  3,  3],\n",
       "        [ 7,  6,  4,  0,  5,  0,  0],\n",
       "        [ 9,  5,  0,  8,  8,  0,  0],\n",
       "        [ 9,  7,  1,  0,  7,  1,  0],\n",
       "        [10,  9,  2,  0,  3,  0,  0],\n",
       "        [ 2,  6,  0,  9,  1,  0,  0],\n",
       "        [ 1,  0,  9,  7,  6,  0,  0],\n",
       "        [ 4,  5,  0,  1,  0,  0,  0],\n",
       "        [ 5,  0,  1,  0,  0,  0,  0],\n",
       "        [ 1,  0,  8,  9,  0,  0,  0],\n",
       "        [ 5,  7,  0,  5,  7,  3,  0],\n",
       "        [ 3, 10,  8,  0,  7,  5,  0],\n",
       "        [ 2,  0,  9,  7, 10,  0,  0],\n",
       "        [ 4,  1,  4,  0,  9, 10,  0],\n",
       "        [ 5,  4,  0,  4,  1,  4,  0],\n",
       "        [ 9,  8,  0, 10,  1,  0,  0],\n",
       "        [ 7,  9,  6,  0,  8,  6,  6],\n",
       "        [ 2,  8,  8,  0,  4,  0,  0],\n",
       "        [10,  7,  3,  0, 10,  7,  0],\n",
       "        [ 2,  0,  2,  4,  4,  0,  0],\n",
       "        [ 2,  0,  9,  1,  0,  0,  0],\n",
       "        [10,  5,  0,  3,  0,  0,  0],\n",
       "        [ 2,  7,  0,  7,  5,  1,  0]])"
      ]
     },
     "execution_count": 78,
     "metadata": {},
     "output_type": "execute_result"
    }
   ],
   "source": [
    "x_train_batch"
   ]
  },
  {
   "cell_type": "code",
   "execution_count": 80,
   "metadata": {},
   "outputs": [],
   "source": [
    "\n",
    "x_reverse = torch.flip(x_train_batch, [1])"
   ]
  },
  {
   "cell_type": "code",
   "execution_count": 85,
   "metadata": {},
   "outputs": [
    {
     "name": "stdout",
     "output_type": "stream",
     "text": [
      "torch.Size([128, 7])\n",
      "torch.Size([128, 7])\n",
      "torch.Size([256, 7])\n"
     ]
    }
   ],
   "source": [
    "print(x_train_batch.shape)\n",
    "print(x_reverse.shape)\n",
    "print(torch.cat((x_train_batch, x_reverse), axis=0).shape)"
   ]
  },
  {
   "cell_type": "code",
   "execution_count": null,
   "metadata": {},
   "outputs": [],
   "source": []
  }
 ],
 "metadata": {
  "interpreter": {
   "hash": "8b220debbe1fd5f837b0ed3daffde3efca0e342b674f6888fc137d71655bd10f"
  },
  "kernelspec": {
   "display_name": "Python 3.9.7 64-bit",
   "name": "python3"
  },
  "language_info": {
   "codemirror_mode": {
    "name": "ipython",
    "version": 3
   },
   "file_extension": ".py",
   "mimetype": "text/x-python",
   "name": "python",
   "nbconvert_exporter": "python",
   "pygments_lexer": "ipython3",
   "version": "3.9.7"
  },
  "orig_nbformat": 4
 },
 "nbformat": 4,
 "nbformat_minor": 2
}
